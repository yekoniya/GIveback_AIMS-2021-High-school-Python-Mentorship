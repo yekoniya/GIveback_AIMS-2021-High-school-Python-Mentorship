{
 "cells": [
  {
   "cell_type": "markdown",
   "metadata": {},
   "source": [
    "\n",
    "# AIMS- Cameroon 2021 - High School Students Mentorship\n"
   ]
  },
  {
   "cell_type": "markdown",
   "metadata": {},
   "source": [
    "## DAY 1 - INTRODUCTION TO PYTHON"
   ]
  },
  {
   "cell_type": "markdown",
   "metadata": {},
   "source": [
    "### What is Python ?"
   ]
  },
  {
   "cell_type": "markdown",
   "metadata": {},
   "source": [
    "Python is an open source programming language that was made to be easy to read and powerful.\n"
   ]
  },
  {
   "cell_type": "markdown",
   "metadata": {},
   "source": [
    "It is the most widely used programming language\n",
    "in the world today."
   ]
  },
  {
   "cell_type": "markdown",
   "metadata": {},
   "source": [
    "The easier a programming language is to\n",
    "manipulate, the higher level it is said to be."
   ]
  },
  {
   "cell_type": "markdown",
   "metadata": {},
   "source": [
    "### Hello world…"
   ]
  },
  {
   "cell_type": "markdown",
   "metadata": {},
   "source": [
    "This is the common way to start with a\n",
    "programming language, depending on the\n",
    "programming language. For instance, for an\n",
    "Arduino board, this \"Hello world...\" is equivalent\n",
    "to turning on a led."
   ]
  },
  {
   "cell_type": "markdown",
   "metadata": {},
   "source": [
    "### Small exercise"
   ]
  },
  {
   "cell_type": "markdown",
   "metadata": {},
   "source": [
    "Display \"Hello world…\" on your programming\n",
    "interface. To do it, you will need the command\n",
    "line : print(“.”)"
   ]
  },
  {
   "cell_type": "code",
   "execution_count": 3,
   "metadata": {},
   "outputs": [
    {
     "name": "stdout",
     "output_type": "stream",
     "text": [
      "Hello World…\n"
     ]
    }
   ],
   "source": [
    "print(\"Hello World…\")"
   ]
  },
  {
   "cell_type": "markdown",
   "metadata": {},
   "source": [
    "### ARITHMETIC"
   ]
  },
  {
   "cell_type": "markdown",
   "metadata": {},
   "source": [
    "Arithmetic in python is easy and simple to handle."
   ]
  },
  {
   "cell_type": "markdown",
   "metadata": {},
   "source": [
    "Practice :"
   ]
  },
  {
   "cell_type": "code",
   "execution_count": 4,
   "metadata": {},
   "outputs": [
    {
     "data": {
      "text/plain": [
       "9"
      ]
     },
     "execution_count": 4,
     "metadata": {},
     "output_type": "execute_result"
    }
   ],
   "source": [
    "2+7"
   ]
  },
  {
   "cell_type": "code",
   "execution_count": 5,
   "metadata": {},
   "outputs": [
    {
     "data": {
      "text/plain": [
       "5"
      ]
     },
     "execution_count": 5,
     "metadata": {},
     "output_type": "execute_result"
    }
   ],
   "source": [
    "7-2"
   ]
  },
  {
   "cell_type": "code",
   "execution_count": 6,
   "metadata": {},
   "outputs": [
    {
     "data": {
      "text/plain": [
       "14"
      ]
     },
     "execution_count": 6,
     "metadata": {},
     "output_type": "execute_result"
    }
   ],
   "source": [
    "7*2"
   ]
  },
  {
   "cell_type": "code",
   "execution_count": 7,
   "metadata": {},
   "outputs": [
    {
     "data": {
      "text/plain": [
       "3.5"
      ]
     },
     "execution_count": 7,
     "metadata": {},
     "output_type": "execute_result"
    }
   ],
   "source": [
    "7/2"
   ]
  },
  {
   "cell_type": "markdown",
   "metadata": {},
   "source": [
    "The % symbol in Python is called the Modulo Operator. It returns the remainder of the remainder of a division problem."
   ]
  },
  {
   "cell_type": "code",
   "execution_count": 8,
   "metadata": {},
   "outputs": [
    {
     "data": {
      "text/plain": [
       "1"
      ]
     },
     "execution_count": 8,
     "metadata": {},
     "output_type": "execute_result"
    }
   ],
   "source": [
    "7%2"
   ]
  },
  {
   "cell_type": "markdown",
   "metadata": {},
   "source": [
    "### Entering numerical values"
   ]
  },
  {
   "cell_type": "markdown",
   "metadata": {},
   "source": [
    "In order to enter numerical values, the command\n",
    "line :\n",
    "input(“.”)"
   ]
  },
  {
   "cell_type": "markdown",
   "metadata": {},
   "source": [
    "Practice:"
   ]
  },
  {
   "cell_type": "code",
   "execution_count": 10,
   "metadata": {},
   "outputs": [
    {
     "name": "stdout",
     "output_type": "stream",
     "text": [
      "Enter the value of a = 10\n"
     ]
    }
   ],
   "source": [
    "a = input(\"Enter the value of a = \")"
   ]
  },
  {
   "cell_type": "markdown",
   "metadata": {},
   "source": [
    "### PRACTICAL EXERCISE"
   ]
  },
  {
   "cell_type": "markdown",
   "metadata": {},
   "source": [
    "Let be the following second order equation :"
   ]
  },
  {
   "cell_type": "markdown",
   "metadata": {},
   "source": [
    "$ax^{2}+bx+c=0$"
   ]
  },
  {
   "cell_type": "markdown",
   "metadata": {},
   "source": [
    "Write a program that asks you to enter the values\n",
    "of a, b and c following the given order."
   ]
  },
  {
   "cell_type": "markdown",
   "metadata": {},
   "source": [
    "### Solution"
   ]
  },
  {
   "cell_type": "code",
   "execution_count": 11,
   "metadata": {},
   "outputs": [
    {
     "name": "stdout",
     "output_type": "stream",
     "text": [
      "Enter the value of a = 1\n"
     ]
    }
   ],
   "source": [
    "a = input(\"Enter the value of a = \")"
   ]
  },
  {
   "cell_type": "code",
   "execution_count": 12,
   "metadata": {},
   "outputs": [
    {
     "name": "stdout",
     "output_type": "stream",
     "text": [
      "Enter the value of b = 2\n"
     ]
    }
   ],
   "source": [
    "b = input(\"Enter the value of b = \")"
   ]
  },
  {
   "cell_type": "code",
   "execution_count": 13,
   "metadata": {},
   "outputs": [
    {
     "name": "stdout",
     "output_type": "stream",
     "text": [
      "Enter the value of c = 3\n"
     ]
    }
   ],
   "source": [
    "c = input(\"Enter the value of c = \")"
   ]
  },
  {
   "cell_type": "markdown",
   "metadata": {},
   "source": [
    "### Conditions in python"
   ]
  },
  {
   "cell_type": "markdown",
   "metadata": {},
   "source": [
    "On the second line, we have converted the value of a to decimal. We will see the variable types in our next sessions."
   ]
  },
  {
   "cell_type": "code",
   "execution_count": 17,
   "metadata": {},
   "outputs": [
    {
     "name": "stdout",
     "output_type": "stream",
     "text": [
      "Enter the value of a: 14\n",
      "Good you are positive, you will suceed\n"
     ]
    }
   ],
   "source": [
    "a = input('Enter the value of a: ')\n",
    "a=float(a)\n",
    "if a < 0 :\n",
    "    print('You are negative, you have to be optimistic')\n",
    "else :\n",
    "    print('Good you are positive, you will suceed')"
   ]
  },
  {
   "cell_type": "markdown",
   "metadata": {},
   "source": [
    "### PRACTICAL EXERCISE"
   ]
  },
  {
   "cell_type": "markdown",
   "metadata": {},
   "source": [
    "Let us go back to our equation of seond order."
   ]
  },
  {
   "cell_type": "markdown",
   "metadata": {},
   "source": [
    "$ax^{2}+bx+c=0$"
   ]
  },
  {
   "cell_type": "markdown",
   "metadata": {},
   "source": [
    "Write down a program which solves this equation\n",
    "after asking to enter in order the values a, b and c\n",
    "and print the solution in the best way."
   ]
  },
  {
   "cell_type": "code",
   "execution_count": 48,
   "metadata": {},
   "outputs": [
    {
     "name": "stdout",
     "output_type": "stream",
     "text": [
      "a =1\n",
      "b =2\n",
      "c=-3\n",
      "discriminant=  16.0\n",
      "We have two solution, x1 =  -3.0\n",
      "and, x2 =  1.0\n",
      "End of the programme, thank you!\n"
     ]
    }
   ],
   "source": [
    "a=input('a =') # We enter the value of a\n",
    "a=float(a)\n",
    "b=input('b =') # We enter the value of b\n",
    "b=float(b)\n",
    "c=input('c=') # We enter the value of c\n",
    "c=float(c)\n",
    "disc=b*b-4*a*c # We calculate delta, the discriminant, as a function of a, b and c\n",
    "print (\"discriminant= \",disc) # Here we can print the value of the discriminant\n",
    "\n",
    "##First condition\n",
    "if disc <0:\n",
    "    print(\"No solution\") # When the discriminant is negative, there are no solutions\n",
    "    \n",
    "##Second condition\n",
    "if disc ==0:\n",
    "    x=-b/2*a   #When the discriminant is equal to 0, there is a unique solution X\n",
    "    print(\"we have one solution, x= \",x)\n",
    "        \n",
    "##Third condition \n",
    "if disc >0:\n",
    "    x1=(-b-disc**0.5)/2*a\n",
    "    x2=(-b+disc**0.5)/2*a\n",
    "    print (\"We have two solution, x1 = \",x1) # When the discriminant is positive, we have x1, x2.\n",
    "    print (\"and, x2 = \",x2)\n",
    "print('End of the programme, thank you!')"
   ]
  },
  {
   "cell_type": "markdown",
   "metadata": {},
   "source": [
    "### Exercises to do for the next session"
   ]
  },
  {
   "cell_type": "markdown",
   "metadata": {},
   "source": [
    "### Exercise 1"
   ]
  },
  {
   "cell_type": "markdown",
   "metadata": {},
   "source": [
    "Write a program which computes :"
   ]
  },
  {
   "cell_type": "markdown",
   "metadata": {},
   "source": [
    "•The perimeter of a rectangle"
   ]
  },
  {
   "cell_type": "markdown",
   "metadata": {},
   "source": [
    "•The volume of a sphere by taking 𝜋 = 3.14"
   ]
  },
  {
   "cell_type": "markdown",
   "metadata": {},
   "source": [
    "### Exercise 2"
   ]
  },
  {
   "cell_type": "markdown",
   "metadata": {},
   "source": [
    "Write a program that displays a menu of food and\n",
    "asks the customer to make a choice and displays\n",
    "the customer's choice."
   ]
  },
  {
   "cell_type": "code",
   "execution_count": null,
   "metadata": {},
   "outputs": [],
   "source": []
  }
 ],
 "metadata": {
  "kernelspec": {
   "display_name": "Python 3",
   "language": "python",
   "name": "python3"
  },
  "language_info": {
   "codemirror_mode": {
    "name": "ipython",
    "version": 3
   },
   "file_extension": ".py",
   "mimetype": "text/x-python",
   "name": "python",
   "nbconvert_exporter": "python",
   "pygments_lexer": "ipython3",
   "version": "3.8.5"
  }
 },
 "nbformat": 4,
 "nbformat_minor": 4
}
