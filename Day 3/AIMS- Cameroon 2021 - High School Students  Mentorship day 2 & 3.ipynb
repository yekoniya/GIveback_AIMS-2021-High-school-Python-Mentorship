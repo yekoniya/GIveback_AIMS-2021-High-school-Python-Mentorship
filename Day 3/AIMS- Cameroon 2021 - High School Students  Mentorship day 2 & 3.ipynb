{
 "cells": [
  {
   "cell_type": "markdown",
   "metadata": {},
   "source": [
    "\n",
    "# AIMS- Cameroon 2021 - High School Students Mentorship  day 2 & 3\n"
   ]
  },
  {
   "cell_type": "markdown",
   "metadata": {},
   "source": [
    "## DAY 2 & 3 - INTRODUCTION TO PYTHON"
   ]
  },
  {
   "cell_type": "markdown",
   "metadata": {},
   "source": [
    "### What is a Function ?"
   ]
  },
  {
   "cell_type": "markdown",
   "metadata": {},
   "source": [
    "A function relates an input to an output."
   ]
  },
  {
   "cell_type": "markdown",
   "metadata": {},
   "source": [
    "It is like a machine that has an input and an\n",
    "output."
   ]
  },
  {
   "cell_type": "markdown",
   "metadata": {},
   "source": [
    "And the output is related somehow to the input."
   ]
  },
  {
   "cell_type": "markdown",
   "metadata": {},
   "source": [
    "### Application"
   ]
  },
  {
   "cell_type": "markdown",
   "metadata": {},
   "source": [
    "Do you remember this equation ?"
   ]
  },
  {
   "cell_type": "markdown",
   "metadata": {},
   "source": [
    "$ax^{2}+bx+c=0$"
   ]
  },
  {
   "cell_type": "markdown",
   "metadata": {},
   "source": [
    "If yes, what was the objectives behind this\n",
    "equation ?\n",
    "We will write a function which can solve this\n",
    "equation directly."
   ]
  },
  {
   "cell_type": "markdown",
   "metadata": {},
   "source": [
    "To define a function in Python, we use the following syntax :"
   ]
  },
  {
   "cell_type": "code",
   "execution_count": null,
   "metadata": {},
   "outputs": [],
   "source": [
    "def nameOfTheFunction ( parameters ) :\n",
    "      instructions"
   ]
  },
  {
   "cell_type": "markdown",
   "metadata": {},
   "source": [
    "To return a result or an output coming from the function,  we use the command line:"
   ]
  },
  {
   "cell_type": "code",
   "execution_count": null,
   "metadata": {},
   "outputs": [],
   "source": [
    "return value"
   ]
  },
  {
   "cell_type": "markdown",
   "metadata": {},
   "source": [
    "### PRACTICAL EXERCISE 1"
   ]
  },
  {
   "cell_type": "markdown",
   "metadata": {},
   "source": [
    "Write a function which solves the second order equation or\n",
    "quadratic equation."
   ]
  },
  {
   "cell_type": "code",
   "execution_count": 12,
   "metadata": {},
   "outputs": [],
   "source": [
    "def quadratic(a,b,c):\n",
    "    delta = b**2 - 4*a*c\n",
    "    if delta > 0 :\n",
    "        # First case delta > 0\n",
    "        # We have 2 solutions\n",
    "        x1 = (-b - (delta**0.5)) / (2*a)\n",
    "        x2 = (-b + (delta**0.5)) / (2*a)\n",
    "        x=print('The solutions are: x1=', x1,'and x2= ',x2)\n",
    "    elif delta == 0 :\n",
    "        # Second case delta == 0\n",
    "        # we have one double solution\n",
    "        x0 = (-b/(2*a))\n",
    "        x=print('The solution is: x0=', x0)\n",
    "    else : # delta < 0\n",
    "        # Last case delta < 0\n",
    "        # No solution in R\n",
    "        x=print('No solution')\n",
    "    return x"
   ]
  },
  {
   "cell_type": "code",
   "execution_count": 13,
   "metadata": {},
   "outputs": [
    {
     "name": "stdout",
     "output_type": "stream",
     "text": [
      "The solutions are: x1= 2.0 and x2=  3.0\n"
     ]
    }
   ],
   "source": [
    "quadratic(1,-5,6)"
   ]
  },
  {
   "cell_type": "code",
   "execution_count": 14,
   "metadata": {},
   "outputs": [
    {
     "name": "stdout",
     "output_type": "stream",
     "text": [
      "The solution is: x0= 2.0\n"
     ]
    }
   ],
   "source": [
    "quadratic(1,-4,4)"
   ]
  },
  {
   "cell_type": "code",
   "execution_count": 15,
   "metadata": {},
   "outputs": [
    {
     "name": "stdout",
     "output_type": "stream",
     "text": [
      "No solution\n"
     ]
    }
   ],
   "source": [
    "quadratic(1,1,1)"
   ]
  },
  {
   "cell_type": "markdown",
   "metadata": {},
   "source": [
    "### THE LOOP IN PYTHON"
   ]
  },
  {
   "cell_type": "markdown",
   "metadata": {},
   "source": [
    "In python we have the for loop and the while loop.\n",
    "During our traning, we will only focus on the for\n",
    "loop which is more easy to handle than the while\n",
    "loop."
   ]
  },
  {
   "cell_type": "markdown",
   "metadata": {},
   "source": [
    "The syntax for the for loop is as follows :"
   ]
  },
  {
   "cell_type": "code",
   "execution_count": null,
   "metadata": {},
   "outputs": [],
   "source": [
    "for i in range (number of iteration):\n",
    "    instructions"
   ]
  },
  {
   "cell_type": "markdown",
   "metadata": {},
   "source": [
    "### COMPUTATION OF SEQUENCES"
   ]
  },
  {
   "cell_type": "markdown",
   "metadata": {},
   "source": [
    "Let consider the sequence defined by :"
   ]
  },
  {
   "cell_type": "markdown",
   "metadata": {},
   "source": [
    "$\\left\\{ \\begin{gathered}\n",
    "  {u_0} = 2 \\hfill \\\\\n",
    "  {u_{n + 1}} = {u_n} + 3 \\hfill \\\\ \n",
    "\\end{gathered}  \\right.$"
   ]
  },
  {
   "cell_type": "markdown",
   "metadata": {},
   "source": [
    "Compute by hand the 5 first terms of this sequence,\n",
    "then use your computer to write a code using the for\n",
    "loop, in order to compute these terms and confirm."
   ]
  },
  {
   "cell_type": "code",
   "execution_count": 18,
   "metadata": {},
   "outputs": [
    {
     "name": "stdout",
     "output_type": "stream",
     "text": [
      "5\n",
      "8\n",
      "11\n",
      "14\n",
      "17\n"
     ]
    }
   ],
   "source": [
    "u0=2\n",
    "\n",
    "for i in range (5):\n",
    "    u0=u0+3\n",
    "    print(u0)"
   ]
  },
  {
   "cell_type": "markdown",
   "metadata": {},
   "source": [
    "### PRACTICAL EXERCISE 2"
   ]
  },
  {
   "cell_type": "markdown",
   "metadata": {},
   "source": [
    "Compute the value of S using a code that you will write\n",
    "down, defined by :"
   ]
  },
  {
   "cell_type": "markdown",
   "metadata": {},
   "source": [
    "$S = {U_0} + {U_1} + ... + {U_{10}}$"
   ]
  },
  {
   "cell_type": "code",
   "execution_count": 25,
   "metadata": {},
   "outputs": [
    {
     "name": "stdout",
     "output_type": "stream",
     "text": [
      "187\n"
     ]
    }
   ],
   "source": [
    "u0=2\n",
    "S=2                      #We set the initial value of the sum to 2\n",
    "\n",
    "for i in range (10):     #i varies from 0 to 9, so 10 terms after u(0)\n",
    "    u0=u0+3              #calculation of u(k+1)\n",
    "    S=S+u0               #the new sum is equal to the old one + the value of u(k+1) calculated\n",
    "print(S) "
   ]
  },
  {
   "cell_type": "markdown",
   "metadata": {},
   "source": [
    "We also define S by the following formula :"
   ]
  },
  {
   "cell_type": "markdown",
   "metadata": {},
   "source": [
    "$ S = \\sum\\limits_{k = 0}^{10} {{U_k}} $"
   ]
  },
  {
   "cell_type": "code",
   "execution_count": 30,
   "metadata": {},
   "outputs": [
    {
     "name": "stdout",
     "output_type": "stream",
     "text": [
      "2324549427200\n"
     ]
    }
   ],
   "source": [
    "u0=2\n",
    "P=2                      #We set the initial value of the product to 2\n",
    "\n",
    "for i in range (10):     #i varies from 0 to 9, so 10 terms after u(0)\n",
    "    u0=u0+3              #calculation of u(k+1)\n",
    "    P=P*u0               #the new product is equal to the old one * the value of u(k+1) calculated\n",
    "print(P) "
   ]
  },
  {
   "cell_type": "markdown",
   "metadata": {},
   "source": [
    "### EXERCISE"
   ]
  },
  {
   "cell_type": "markdown",
   "metadata": {},
   "source": [
    "Let consider the sequence defined by :"
   ]
  },
  {
   "cell_type": "markdown",
   "metadata": {},
   "source": [
    "$$\\left\\{ \\begin{gathered}\n",
    "  {W_0} = 1 \\hfill \\\\\n",
    "  {W_{n + 1}} = 2{W_n},\\,n \\geqslant 0 \\hfill \\\\ \n",
    "\\end{gathered}  \\right.$$"
   ]
  },
  {
   "cell_type": "markdown",
   "metadata": {},
   "source": [
    "Compute using your computer :"
   ]
  },
  {
   "attachments": {
    "image.png": {
     "image/png": "[encoded data removed]"
    }
   },
   "cell_type": "markdown",
   "metadata": {},
   "source": [
    "![image.png](attachment:image.png)"
   ]
  },
  {
   "cell_type": "markdown",
   "metadata": {},
   "source": [
    "### Solution"
   ]
  },
  {
   "cell_type": "code",
   "execution_count": 35,
   "metadata": {},
   "outputs": [
    {
     "name": "stdout",
     "output_type": "stream",
     "text": [
      "36028797018963968\n"
     ]
    }
   ],
   "source": [
    "W0=1\n",
    "P=1                      #We set the initial value of the product to 1\n",
    "\n",
    "for i in range (10):     #i varies from 0 to 9, so 10 terms after u(0)\n",
    "    W0=2*W0              #calculation of W(k+1)\n",
    "    P=P*W0               #the new product is equal to the old one * the value of W(k+1) calculated\n",
    "print(P) "
   ]
  },
  {
   "cell_type": "markdown",
   "metadata": {},
   "source": [
    "### ASSIGNMENT"
   ]
  },
  {
   "cell_type": "markdown",
   "metadata": {},
   "source": [
    "Compute the value of T defined by :"
   ]
  },
  {
   "attachments": {
    "image.png": {
     "image/png": "[encoded data removed]"
    }
   },
   "cell_type": "markdown",
   "metadata": {},
   "source": [
    "![image.png](attachment:image.png)"
   ]
  },
  {
   "cell_type": "markdown",
   "metadata": {},
   "source": [
    "Using your computer."
   ]
  }
 ],
 "metadata": {
  "kernelspec": {
   "display_name": "Python 3",
   "language": "python",
   "name": "python3"
  },
  "language_info": {
   "codemirror_mode": {
    "name": "ipython",
    "version": 3
   },
   "file_extension": ".py",
   "mimetype": "text/x-python",
   "name": "python",
   "nbconvert_exporter": "python",
   "pygments_lexer": "ipython3",
   "version": "3.8.5"
  }
 },
 "nbformat": 4,
 "nbformat_minor": 4
}
